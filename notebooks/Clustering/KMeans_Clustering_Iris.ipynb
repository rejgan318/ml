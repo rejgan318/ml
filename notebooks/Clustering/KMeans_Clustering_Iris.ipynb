{
 "cells": [
  {
   "cell_type": "markdown",
   "source": [
    "# Кластеризация известного датасета [Iris](https://scikit-learn.org/stable/datasets/toy_dataset.html#iris-plants-dataset)\n",
    "\n",
    "Используется [sklearn.cluster.KMeans](https://scikit-learn.org/stable/modules/generated/sklearn.cluster.KMeans.html)\n",
    "\n",
    "Что здесь делается?\n",
    "- загружается датасет ирисов\n",
    "- из него убирается поле _Species_ - предопределенные кластеры\n",
    "- с помощью модели KMeans делается попытка кластеризации датасета с количеством кластеров от 2 до 10\n",
    "- сохраняется показатель инерции для каждого результата кластеризации\n",
    "- строится график инерции в зависимости от количества кластеров\n",
    "- на графике визуально ищется \"точка локтя\", которая показывает оптимальное количество кластеров для этого набора данных\n",
    "- найденное значение сравнивается с заранее известным из набора (n_clusters=3), с ним производится окончательная кластеризация\n",
    "- анализируется количество в каждом кластере, сравнивается и заранее известным (50 в каждом), делается оценка правильности выбора модели кластеризации"
   ],
   "metadata": {
    "collapsed": false
   }
  },
  {
   "cell_type": "code",
   "source": [
    "#TODO попробовать другие методы кластеризации, чтобы улучшить результат\n",
    "#TODO искать решение на kaggle"
   ],
   "metadata": {
    "collapsed": false,
    "ExecuteTime": {
     "end_time": "2024-06-10T09:44:03.480696Z",
     "start_time": "2024-06-10T09:44:03.478221Z"
    }
   },
   "outputs": [],
   "execution_count": 1
  },
  {
   "cell_type": "markdown",
   "source": [
    "[**Wiki** Ирисы Фишера](https://ru.wikipedia.org/wiki/%D0%98%D1%80%D0%B8%D1%81%D1%8B_%D0%A4%D0%B8%D1%88%D0%B5%D1%80%D0%B0)\n",
    "[**kaggle** Iris Species](https://www.kaggle.com/datasets/uciml/iris)\n",
    "\n",
    "_3 класса ирисов по 50 наблюдений в каждом_\n",
    "\n",
    "- Setosa\n",
    "- Versicolour\n",
    "- Virginica\n",
    "\n",
    "_Атрибуты_\n",
    "\n",
    "- sepal length in cm (чашелистик)\n",
    "- sepal width in cm\n",
    "- petal length in cm (лепесток)\n",
    "- petal width in cm\n",
    "- class\n",
    "\n",
    "Id, SepalLengthCm, SepalWidthCm, PetalLengthCm, PetalWidthCm, Species"
   ],
   "metadata": {
    "collapsed": false
   }
  },
  {
   "cell_type": "code",
   "source": [
    "import pandas as pd\n",
    "import numpy as np\n",
    "from sklearn.cluster import KMeans\n",
    "import sklearn\n",
    "import seaborn as sns\n",
    "\n",
    "import warnings\n",
    "warnings.filterwarnings(\"ignore\")"
   ],
   "metadata": {
    "collapsed": false,
    "ExecuteTime": {
     "end_time": "2024-06-10T09:44:03.750901Z",
     "start_time": "2024-06-10T09:44:03.480696Z"
    }
   },
   "outputs": [],
   "execution_count": 2
  },
  {
   "cell_type": "code",
   "source": [
    "iris_df = pd.read_csv('../../data/KMeans_Clustering_Iris.csv', index_col='Id')\n",
    "iris_df.head()"
   ],
   "metadata": {
    "collapsed": false,
    "ExecuteTime": {
     "end_time": "2024-06-10T09:44:05.368168Z",
     "start_time": "2024-06-10T09:44:05.348796Z"
    }
   },
   "outputs": [
    {
     "data": {
      "text/plain": [
       "    SepalLengthCm  SepalWidthCm  PetalLengthCm  PetalWidthCm      Species\n",
       "Id                                                                       \n",
       "1             5.1           3.5            1.4           0.2  Iris-setosa\n",
       "2             4.9           3.0            1.4           0.2  Iris-setosa\n",
       "3             4.7           3.2            1.3           0.2  Iris-setosa\n",
       "4             4.6           3.1            1.5           0.2  Iris-setosa\n",
       "5             5.0           3.6            1.4           0.2  Iris-setosa"
      ],
      "text/html": [
       "<div>\n",
       "<style scoped>\n",
       "    .dataframe tbody tr th:only-of-type {\n",
       "        vertical-align: middle;\n",
       "    }\n",
       "\n",
       "    .dataframe tbody tr th {\n",
       "        vertical-align: top;\n",
       "    }\n",
       "\n",
       "    .dataframe thead th {\n",
       "        text-align: right;\n",
       "    }\n",
       "</style>\n",
       "<table border=\"1\" class=\"dataframe\">\n",
       "  <thead>\n",
       "    <tr style=\"text-align: right;\">\n",
       "      <th></th>\n",
       "      <th>SepalLengthCm</th>\n",
       "      <th>SepalWidthCm</th>\n",
       "      <th>PetalLengthCm</th>\n",
       "      <th>PetalWidthCm</th>\n",
       "      <th>Species</th>\n",
       "    </tr>\n",
       "    <tr>\n",
       "      <th>Id</th>\n",
       "      <th></th>\n",
       "      <th></th>\n",
       "      <th></th>\n",
       "      <th></th>\n",
       "      <th></th>\n",
       "    </tr>\n",
       "  </thead>\n",
       "  <tbody>\n",
       "    <tr>\n",
       "      <th>1</th>\n",
       "      <td>5.1</td>\n",
       "      <td>3.5</td>\n",
       "      <td>1.4</td>\n",
       "      <td>0.2</td>\n",
       "      <td>Iris-setosa</td>\n",
       "    </tr>\n",
       "    <tr>\n",
       "      <th>2</th>\n",
       "      <td>4.9</td>\n",
       "      <td>3.0</td>\n",
       "      <td>1.4</td>\n",
       "      <td>0.2</td>\n",
       "      <td>Iris-setosa</td>\n",
       "    </tr>\n",
       "    <tr>\n",
       "      <th>3</th>\n",
       "      <td>4.7</td>\n",
       "      <td>3.2</td>\n",
       "      <td>1.3</td>\n",
       "      <td>0.2</td>\n",
       "      <td>Iris-setosa</td>\n",
       "    </tr>\n",
       "    <tr>\n",
       "      <th>4</th>\n",
       "      <td>4.6</td>\n",
       "      <td>3.1</td>\n",
       "      <td>1.5</td>\n",
       "      <td>0.2</td>\n",
       "      <td>Iris-setosa</td>\n",
       "    </tr>\n",
       "    <tr>\n",
       "      <th>5</th>\n",
       "      <td>5.0</td>\n",
       "      <td>3.6</td>\n",
       "      <td>1.4</td>\n",
       "      <td>0.2</td>\n",
       "      <td>Iris-setosa</td>\n",
       "    </tr>\n",
       "  </tbody>\n",
       "</table>\n",
       "</div>"
      ]
     },
     "execution_count": 3,
     "metadata": {},
     "output_type": "execute_result"
    }
   ],
   "execution_count": 3
  },
  {
   "cell_type": "code",
   "source": [
    "iris_df.describe()"
   ],
   "metadata": {
    "collapsed": false,
    "ExecuteTime": {
     "end_time": "2024-06-10T09:44:07.179952Z",
     "start_time": "2024-06-10T09:44:07.164130Z"
    }
   },
   "outputs": [
    {
     "data": {
      "text/plain": [
       "       SepalLengthCm  SepalWidthCm  PetalLengthCm  PetalWidthCm\n",
       "count     150.000000    150.000000     150.000000    150.000000\n",
       "mean        5.843333      3.054000       3.758667      1.198667\n",
       "std         0.828066      0.433594       1.764420      0.763161\n",
       "min         4.300000      2.000000       1.000000      0.100000\n",
       "25%         5.100000      2.800000       1.600000      0.300000\n",
       "50%         5.800000      3.000000       4.350000      1.300000\n",
       "75%         6.400000      3.300000       5.100000      1.800000\n",
       "max         7.900000      4.400000       6.900000      2.500000"
      ],
      "text/html": [
       "<div>\n",
       "<style scoped>\n",
       "    .dataframe tbody tr th:only-of-type {\n",
       "        vertical-align: middle;\n",
       "    }\n",
       "\n",
       "    .dataframe tbody tr th {\n",
       "        vertical-align: top;\n",
       "    }\n",
       "\n",
       "    .dataframe thead th {\n",
       "        text-align: right;\n",
       "    }\n",
       "</style>\n",
       "<table border=\"1\" class=\"dataframe\">\n",
       "  <thead>\n",
       "    <tr style=\"text-align: right;\">\n",
       "      <th></th>\n",
       "      <th>SepalLengthCm</th>\n",
       "      <th>SepalWidthCm</th>\n",
       "      <th>PetalLengthCm</th>\n",
       "      <th>PetalWidthCm</th>\n",
       "    </tr>\n",
       "  </thead>\n",
       "  <tbody>\n",
       "    <tr>\n",
       "      <th>count</th>\n",
       "      <td>150.000000</td>\n",
       "      <td>150.000000</td>\n",
       "      <td>150.000000</td>\n",
       "      <td>150.000000</td>\n",
       "    </tr>\n",
       "    <tr>\n",
       "      <th>mean</th>\n",
       "      <td>5.843333</td>\n",
       "      <td>3.054000</td>\n",
       "      <td>3.758667</td>\n",
       "      <td>1.198667</td>\n",
       "    </tr>\n",
       "    <tr>\n",
       "      <th>std</th>\n",
       "      <td>0.828066</td>\n",
       "      <td>0.433594</td>\n",
       "      <td>1.764420</td>\n",
       "      <td>0.763161</td>\n",
       "    </tr>\n",
       "    <tr>\n",
       "      <th>min</th>\n",
       "      <td>4.300000</td>\n",
       "      <td>2.000000</td>\n",
       "      <td>1.000000</td>\n",
       "      <td>0.100000</td>\n",
       "    </tr>\n",
       "    <tr>\n",
       "      <th>25%</th>\n",
       "      <td>5.100000</td>\n",
       "      <td>2.800000</td>\n",
       "      <td>1.600000</td>\n",
       "      <td>0.300000</td>\n",
       "    </tr>\n",
       "    <tr>\n",
       "      <th>50%</th>\n",
       "      <td>5.800000</td>\n",
       "      <td>3.000000</td>\n",
       "      <td>4.350000</td>\n",
       "      <td>1.300000</td>\n",
       "    </tr>\n",
       "    <tr>\n",
       "      <th>75%</th>\n",
       "      <td>6.400000</td>\n",
       "      <td>3.300000</td>\n",
       "      <td>5.100000</td>\n",
       "      <td>1.800000</td>\n",
       "    </tr>\n",
       "    <tr>\n",
       "      <th>max</th>\n",
       "      <td>7.900000</td>\n",
       "      <td>4.400000</td>\n",
       "      <td>6.900000</td>\n",
       "      <td>2.500000</td>\n",
       "    </tr>\n",
       "  </tbody>\n",
       "</table>\n",
       "</div>"
      ]
     },
     "execution_count": 4,
     "metadata": {},
     "output_type": "execute_result"
    }
   ],
   "execution_count": 4
  },
  {
   "cell_type": "code",
   "source": [
    "iris_df.info()"
   ],
   "metadata": {
    "collapsed": false,
    "ExecuteTime": {
     "end_time": "2024-06-10T09:44:08.811161Z",
     "start_time": "2024-06-10T09:44:08.802521Z"
    }
   },
   "outputs": [
    {
     "name": "stdout",
     "output_type": "stream",
     "text": [
      "<class 'pandas.core.frame.DataFrame'>\n",
      "Index: 150 entries, 1 to 150\n",
      "Data columns (total 5 columns):\n",
      " #   Column         Non-Null Count  Dtype  \n",
      "---  ------         --------------  -----  \n",
      " 0   SepalLengthCm  150 non-null    float64\n",
      " 1   SepalWidthCm   150 non-null    float64\n",
      " 2   PetalLengthCm  150 non-null    float64\n",
      " 3   PetalWidthCm   150 non-null    float64\n",
      " 4   Species        150 non-null    object \n",
      "dtypes: float64(4), object(1)\n",
      "memory usage: 7.0+ KB\n"
     ]
    }
   ],
   "execution_count": 5
  },
  {
   "cell_type": "code",
   "source": [
    "iris_df.isnull().sum()"
   ],
   "metadata": {
    "collapsed": false,
    "ExecuteTime": {
     "end_time": "2024-06-10T09:44:09.923947Z",
     "start_time": "2024-06-10T09:44:09.917764Z"
    }
   },
   "outputs": [
    {
     "data": {
      "text/plain": [
       "SepalLengthCm    0\n",
       "SepalWidthCm     0\n",
       "PetalLengthCm    0\n",
       "PetalWidthCm     0\n",
       "Species          0\n",
       "dtype: int64"
      ]
     },
     "execution_count": 6,
     "metadata": {},
     "output_type": "execute_result"
    }
   ],
   "execution_count": 6
  },
  {
   "cell_type": "code",
   "source": [
    "iris_df.nunique()"
   ],
   "metadata": {
    "collapsed": false,
    "ExecuteTime": {
     "end_time": "2024-06-10T09:44:11.063008Z",
     "start_time": "2024-06-10T09:44:11.056763Z"
    }
   },
   "outputs": [
    {
     "data": {
      "text/plain": [
       "SepalLengthCm    35\n",
       "SepalWidthCm     23\n",
       "PetalLengthCm    43\n",
       "PetalWidthCm     22\n",
       "Species           3\n",
       "dtype: int64"
      ]
     },
     "execution_count": 7,
     "metadata": {},
     "output_type": "execute_result"
    }
   ],
   "execution_count": 7
  },
  {
   "cell_type": "code",
   "source": [
    "iris_df.groupby(\"Species\").agg({\"SepalLengthCm\":\"mean\",\n",
    "                            \"SepalWidthCm\":\"mean\",\n",
    "                            \"PetalLengthCm\":\"mean\",\n",
    "                            \"PetalWidthCm\":\"mean\"})"
   ],
   "metadata": {
    "collapsed": false,
    "ExecuteTime": {
     "end_time": "2024-06-10T09:44:12.063607Z",
     "start_time": "2024-06-10T09:44:12.051500Z"
    }
   },
   "outputs": [
    {
     "data": {
      "text/plain": [
       "                 SepalLengthCm  SepalWidthCm  PetalLengthCm  PetalWidthCm\n",
       "Species                                                                  \n",
       "Iris-setosa              5.006         3.418          1.464         0.244\n",
       "Iris-versicolor          5.936         2.770          4.260         1.326\n",
       "Iris-virginica           6.588         2.974          5.552         2.026"
      ],
      "text/html": [
       "<div>\n",
       "<style scoped>\n",
       "    .dataframe tbody tr th:only-of-type {\n",
       "        vertical-align: middle;\n",
       "    }\n",
       "\n",
       "    .dataframe tbody tr th {\n",
       "        vertical-align: top;\n",
       "    }\n",
       "\n",
       "    .dataframe thead th {\n",
       "        text-align: right;\n",
       "    }\n",
       "</style>\n",
       "<table border=\"1\" class=\"dataframe\">\n",
       "  <thead>\n",
       "    <tr style=\"text-align: right;\">\n",
       "      <th></th>\n",
       "      <th>SepalLengthCm</th>\n",
       "      <th>SepalWidthCm</th>\n",
       "      <th>PetalLengthCm</th>\n",
       "      <th>PetalWidthCm</th>\n",
       "    </tr>\n",
       "    <tr>\n",
       "      <th>Species</th>\n",
       "      <th></th>\n",
       "      <th></th>\n",
       "      <th></th>\n",
       "      <th></th>\n",
       "    </tr>\n",
       "  </thead>\n",
       "  <tbody>\n",
       "    <tr>\n",
       "      <th>Iris-setosa</th>\n",
       "      <td>5.006</td>\n",
       "      <td>3.418</td>\n",
       "      <td>1.464</td>\n",
       "      <td>0.244</td>\n",
       "    </tr>\n",
       "    <tr>\n",
       "      <th>Iris-versicolor</th>\n",
       "      <td>5.936</td>\n",
       "      <td>2.770</td>\n",
       "      <td>4.260</td>\n",
       "      <td>1.326</td>\n",
       "    </tr>\n",
       "    <tr>\n",
       "      <th>Iris-virginica</th>\n",
       "      <td>6.588</td>\n",
       "      <td>2.974</td>\n",
       "      <td>5.552</td>\n",
       "      <td>2.026</td>\n",
       "    </tr>\n",
       "  </tbody>\n",
       "</table>\n",
       "</div>"
      ]
     },
     "execution_count": 8,
     "metadata": {},
     "output_type": "execute_result"
    }
   ],
   "execution_count": 8
  },
  {
   "cell_type": "code",
   "source": [
    "iris_df['Species'].value_counts()"
   ],
   "metadata": {
    "collapsed": false,
    "ExecuteTime": {
     "end_time": "2024-06-10T09:44:13.064523Z",
     "start_time": "2024-06-10T09:44:13.058705Z"
    }
   },
   "outputs": [
    {
     "data": {
      "text/plain": [
       "Species\n",
       "Iris-setosa        50\n",
       "Iris-versicolor    50\n",
       "Iris-virginica     50\n",
       "Name: count, dtype: int64"
      ]
     },
     "execution_count": 9,
     "metadata": {},
     "output_type": "execute_result"
    }
   ],
   "execution_count": 9
  },
  {
   "cell_type": "markdown",
   "source": [
    "Попытаемся определить оптимальное количество кластеров, используя метрики Инерция и Силуэт"
   ],
   "metadata": {
    "collapsed": false
   }
  },
  {
   "cell_type": "code",
   "source": [
    "labels = iris_df['Species']\n",
    "iris = iris_df.drop(columns=['Species'])\n",
    "stats = []\n",
    "for n_clusters in range(2, 10):\n",
    "    kmeans = KMeans(n_clusters=n_clusters).fit(iris)\n",
    "    silhouette = sklearn.metrics.silhouette_score(iris, kmeans.labels_, metric='euclidean')\n",
    "    stats.append([n_clusters, kmeans.inertia_, kmeans.n_iter_, silhouette])"
   ],
   "metadata": {
    "collapsed": false,
    "ExecuteTime": {
     "end_time": "2024-06-10T09:44:14.736639Z",
     "start_time": "2024-06-10T09:44:14.609770Z"
    }
   },
   "outputs": [],
   "execution_count": 10
  },
  {
   "cell_type": "code",
   "source": [
    "sns.lineplot(data=pd.DataFrame.from_records(stats, columns=['n_clusters', 'inertia',  'n_iters', 'silhouette']), x='n_clusters', y='inertia')"
   ],
   "metadata": {
    "collapsed": false,
    "ExecuteTime": {
     "end_time": "2024-06-10T09:44:16.314415Z",
     "start_time": "2024-06-10T09:44:16.136643Z"
    }
   },
   "outputs": [
    {
     "data": {
      "text/plain": [
       "<Axes: xlabel='n_clusters', ylabel='inertia'>"
      ]
     },
     "execution_count": 11,
     "metadata": {},
     "output_type": "execute_result"
    },
    {
     "data": {
      "text/plain": [
       "<Figure size 640x480 with 1 Axes>"
      ],
      "image/png": "[encoded data removed]"
     },
     "metadata": {},
     "output_type": "display_data"
    }
   ],
   "execution_count": 11
  },
  {
   "cell_type": "code",
   "source": [
    "sns.lineplot(data=pd.DataFrame.from_records(stats, columns=['n_clusters', 'inertia',  'n_iters', 'silhouette']), x='n_clusters', y='silhouette')"
   ],
   "metadata": {
    "collapsed": false,
    "ExecuteTime": {
     "end_time": "2024-06-10T09:44:18.117492Z",
     "start_time": "2024-06-10T09:44:17.950264Z"
    }
   },
   "outputs": [
    {
     "data": {
      "text/plain": [
       "<Axes: xlabel='n_clusters', ylabel='silhouette'>"
      ]
     },
     "execution_count": 12,
     "metadata": {},
     "output_type": "execute_result"
    },
    {
     "data": {
      "text/plain": [
       "<Figure size 640x480 with 1 Axes>"
      ],
      "image/png": "[encoded data removed]"
     },
     "metadata": {},
     "output_type": "display_data"
    }
   ],
   "execution_count": 12
  },
  {
   "cell_type": "code",
   "source": [
    "kmeans = KMeans(n_clusters=3).fit(iris)"
   ],
   "metadata": {
    "collapsed": false,
    "ExecuteTime": {
     "end_time": "2024-06-10T09:44:22.008272Z",
     "start_time": "2024-06-10T09:44:21.998732Z"
    }
   },
   "outputs": [],
   "execution_count": 13
  },
  {
   "cell_type": "code",
   "source": [
    "unique, counts = np.unique(kmeans.labels_, return_counts=True)\n",
    "print(dict(zip(unique, counts)))"
   ],
   "metadata": {
    "collapsed": false,
    "ExecuteTime": {
     "end_time": "2024-06-10T09:44:23.129503Z",
     "start_time": "2024-06-10T09:44:23.126132Z"
    }
   },
   "outputs": [
    {
     "name": "stdout",
     "output_type": "stream",
     "text": [
      "{0: 61, 1: 50, 2: 39}\n"
     ]
    }
   ],
   "execution_count": 14
  },
  {
   "cell_type": "markdown",
   "source": [
    "Разобьем датасет на тренировочный и проверочный"
   ],
   "metadata": {
    "collapsed": false
   }
  },
  {
   "cell_type": "code",
   "source": [
    "from sklearn.preprocessing import LabelEncoder\n",
    "labels = LabelEncoder().fit_transform(labels)\n",
    "labels"
   ],
   "metadata": {
    "collapsed": false,
    "ExecuteTime": {
     "end_time": "2024-06-10T09:44:24.518643Z",
     "start_time": "2024-06-10T09:44:24.512446Z"
    }
   },
   "outputs": [
    {
     "data": {
      "text/plain": [
       "array([0, 0, 0, 0, 0, 0, 0, 0, 0, 0, 0, 0, 0, 0, 0, 0, 0, 0, 0, 0, 0, 0,\n",
       "       0, 0, 0, 0, 0, 0, 0, 0, 0, 0, 0, 0, 0, 0, 0, 0, 0, 0, 0, 0, 0, 0,\n",
       "       0, 0, 0, 0, 0, 0, 1, 1, 1, 1, 1, 1, 1, 1, 1, 1, 1, 1, 1, 1, 1, 1,\n",
       "       1, 1, 1, 1, 1, 1, 1, 1, 1, 1, 1, 1, 1, 1, 1, 1, 1, 1, 1, 1, 1, 1,\n",
       "       1, 1, 1, 1, 1, 1, 1, 1, 1, 1, 1, 1, 2, 2, 2, 2, 2, 2, 2, 2, 2, 2,\n",
       "       2, 2, 2, 2, 2, 2, 2, 2, 2, 2, 2, 2, 2, 2, 2, 2, 2, 2, 2, 2, 2, 2,\n",
       "       2, 2, 2, 2, 2, 2, 2, 2, 2, 2, 2, 2, 2, 2, 2, 2, 2, 2])"
      ]
     },
     "execution_count": 15,
     "metadata": {},
     "output_type": "execute_result"
    }
   ],
   "execution_count": 15
  },
  {
   "cell_type": "code",
   "source": [
    "train_index, test_index = next(sklearn.model_selection.StratifiedShuffleSplit(n_splits=1, test_size=0.2, random_state=123).split(X=iris, y=labels))\n",
    "X_train = iris.values[train_index]\n",
    "X_test = iris.values[test_index]\n",
    "y_train = labels[train_index]\n",
    "y_test = labels[test_index]\n",
    "# y_train = labels.values[train_index]\n",
    "# y_test = labels.values[test_index]"
   ],
   "metadata": {
    "collapsed": false,
    "ExecuteTime": {
     "end_time": "2024-06-10T09:44:25.534216Z",
     "start_time": "2024-06-10T09:44:25.529054Z"
    }
   },
   "outputs": [],
   "execution_count": 16
  },
  {
   "cell_type": "code",
   "source": [
    "from sklearn.neighbors import NearestNeighbors\n",
    "nbrs = NearestNeighbors(n_neighbors=2, algorithm='ball_tree').fit(X_train)\n",
    "distances, indices = nbrs.kneighbors(X_train)\n",
    "indices"
   ],
   "metadata": {
    "collapsed": false,
    "ExecuteTime": {
     "end_time": "2024-06-10T09:44:26.353341Z",
     "start_time": "2024-06-10T09:44:26.345373Z"
    }
   },
   "outputs": [
    {
     "data": {
      "text/plain": [
       "array([[  0,  94],\n",
       "       [  1,  97],\n",
       "       [  2, 101],\n",
       "       [  3,  68],\n",
       "       [  4,  83],\n",
       "       [  5,  51],\n",
       "       [  6, 118],\n",
       "       [  7,  63],\n",
       "       [  8, 117],\n",
       "       [  9,  89],\n",
       "       [ 10,  84],\n",
       "       [ 11, 105],\n",
       "       [ 12,  48],\n",
       "       [ 13, 100],\n",
       "       [ 14,  19],\n",
       "       [ 15,  73],\n",
       "       [ 55,  16],\n",
       "       [ 17,  73],\n",
       "       [ 18, 110],\n",
       "       [ 19,  41],\n",
       "       [ 20, 105],\n",
       "       [ 21,  30],\n",
       "       [ 22,  87],\n",
       "       [ 23, 106],\n",
       "       [ 24,  66],\n",
       "       [ 25,  59],\n",
       "       [ 26,   4],\n",
       "       [ 27,  56],\n",
       "       [ 28,  77],\n",
       "       [ 29,  78],\n",
       "       [ 30,  88],\n",
       "       [ 31,  69],\n",
       "       [ 32,  35],\n",
       "       [ 33,  99],\n",
       "       [ 34,  63],\n",
       "       [ 35, 117],\n",
       "       [ 36,  78],\n",
       "       [ 37,  85],\n",
       "       [ 38,  79],\n",
       "       [ 39,  62],\n",
       "       [ 40,   4],\n",
       "       [ 41,  98],\n",
       "       [ 42, 116],\n",
       "       [ 43,  44],\n",
       "       [ 44,  43],\n",
       "       [ 45, 100],\n",
       "       [ 46,  64],\n",
       "       [ 47,  82],\n",
       "       [ 48,  12],\n",
       "       [ 49,  76],\n",
       "       [ 50,  88],\n",
       "       [ 51,   5],\n",
       "       [ 52, 103],\n",
       "       [ 53,  85],\n",
       "       [ 54,  42],\n",
       "       [ 55,  16],\n",
       "       [ 56,  92],\n",
       "       [ 57, 116],\n",
       "       [ 58,  76],\n",
       "       [ 59,  25],\n",
       "       [ 60, 115],\n",
       "       [ 61,  28],\n",
       "       [ 62,  39],\n",
       "       [ 63,   7],\n",
       "       [ 64,  26],\n",
       "       [ 65,  74],\n",
       "       [ 66,   0],\n",
       "       [ 67,  44],\n",
       "       [ 68,   3],\n",
       "       [ 69,  31],\n",
       "       [ 70,  94],\n",
       "       [ 71,  37],\n",
       "       [ 72, 117],\n",
       "       [ 73,  15],\n",
       "       [ 74,  84],\n",
       "       [ 75,  15],\n",
       "       [ 76,  58],\n",
       "       [ 77,  28],\n",
       "       [ 78,  29],\n",
       "       [ 79, 116],\n",
       "       [ 80, 108],\n",
       "       [ 81, 105],\n",
       "       [ 82,  47],\n",
       "       [ 83,   4],\n",
       "       [ 84,  74],\n",
       "       [ 85,  37],\n",
       "       [ 86,  28],\n",
       "       [ 87,  22],\n",
       "       [ 88,  30],\n",
       "       [ 89,   9],\n",
       "       [ 90,  32],\n",
       "       [ 91,  92],\n",
       "       [ 92,  56],\n",
       "       [ 93,  16],\n",
       "       [ 94,  96],\n",
       "       [ 95,  82],\n",
       "       [ 96,  94],\n",
       "       [ 97,  12],\n",
       "       [ 98,  41],\n",
       "       [ 99,  61],\n",
       "       [100,  13],\n",
       "       [101,  85],\n",
       "       [102,  62],\n",
       "       [103,  52],\n",
       "       [104,  63],\n",
       "       [105,  81],\n",
       "       [106,  23],\n",
       "       [107,  25],\n",
       "       [108,  80],\n",
       "       [109,  54],\n",
       "       [110,  18],\n",
       "       [111,  39],\n",
       "       [112,  65],\n",
       "       [113, 110],\n",
       "       [114,  65],\n",
       "       [115,  60],\n",
       "       [116,  57],\n",
       "       [117,  35],\n",
       "       [118,   6],\n",
       "       [119,  94]], dtype=int64)"
      ]
     },
     "execution_count": 17,
     "metadata": {},
     "output_type": "execute_result"
    }
   ],
   "execution_count": 17
  },
  {
   "cell_type": "code",
   "execution_count": 109,
   "outputs": [],
   "source": [],
   "metadata": {
    "collapsed": false
   }
  },
  {
   "cell_type": "code",
   "execution_count": 109,
   "outputs": [],
   "source": [],
   "metadata": {
    "collapsed": false
   }
  },
  {
   "cell_type": "code",
   "execution_count": null,
   "outputs": [],
   "source": [],
   "metadata": {
    "collapsed": false
   }
  }
 ],
 "metadata": {
  "kernelspec": {
   "display_name": "Python 3",
   "language": "python",
   "name": "python3"
  },
  "language_info": {
   "codemirror_mode": {
    "name": "ipython",
    "version": 2
   },
   "file_extension": ".py",
   "mimetype": "text/x-python",
   "name": "python",
   "nbconvert_exporter": "python",
   "pygments_lexer": "ipython2",
   "version": "2.7.6"
  }
 },
 "nbformat": 4,
 "nbformat_minor": 0
}
